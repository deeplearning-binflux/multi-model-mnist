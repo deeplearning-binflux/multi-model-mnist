{
 "cells": [
  {
   "cell_type": "code",
   "execution_count": 2,
   "metadata": {},
   "outputs": [],
   "source": [
    "import torch\n",
    "import torchvision\n",
    "import torchvision.transforms as transforms\n",
    "import matplotlib.pyplot as plt\n",
    "import numpy as np\n",
    "import torch.optim as optim\n",
    "import torch.nn as nn\n",
    "import torch.nn.functional as F\n",
    "import torch.onnx"
   ]
  },
  {
   "cell_type": "code",
   "execution_count": 3,
   "metadata": {},
   "outputs": [],
   "source": [
    "transform = transforms.Compose([\n",
    "    transforms.ToTensor()])\n",
    "\n",
    "trainset = torchvision.datasets.MNIST(root='./data', \n",
    "                                        train=True,\n",
    "                                        download=True, \n",
    "                                        transform=transform)\n",
    "train_loader =torch.utils.data.DataLoader(trainset,\n",
    "                                         batch_size=4,\n",
    "                                         shuffle=True,\n",
    "                                         num_workers=4)\n",
    "\n",
    "testset = torchvision.datasets.MNIST(root='./data',\n",
    "                                     train=False,\n",
    "                                     download=True,\n",
    "                                     transform=transform)\n",
    "test_loader = torch.utils.data.DataLoader(testset,\n",
    "                                         batch_size=4,\n",
    "                                         shuffle=False,\n",
    "                                         num_workers=4)"
   ]
  },
  {
   "cell_type": "code",
   "execution_count": 4,
   "metadata": {},
   "outputs": [
    {
     "data": {
      "image/png": "[encoded data removed]",
      "text/plain": [
       "<Figure size 432x288 with 1 Axes>"
      ]
     },
     "metadata": {
      "needs_background": "light"
     },
     "output_type": "display_data"
    },
    {
     "name": "stdout",
     "output_type": "stream",
     "text": [
      "tensor([9, 8, 2, 0])\n"
     ]
    }
   ],
   "source": [
    "def imshow(img, title=None):\n",
    "    img = img.numpy()\n",
    "    plt.imshow(np.transpose(img, (1, 2, 0)))\n",
    "    plt.show()\n",
    "    \n",
    "dataiter = iter(train_loader)\n",
    "images, labels =dataiter.next()\n",
    "\n",
    "grid = torchvision.utils.make_grid(images)\n",
    "\n",
    "imshow(grid)\n",
    "print(labels)"
   ]
  },
  {
   "cell_type": "code",
   "execution_count": 5,
   "metadata": {},
   "outputs": [],
   "source": [
    "class FeedForward(nn.Module):\n",
    "    def __init__(self):\n",
    "        super(FeedForward, self).__init__()\n",
    "        self.fc1 = nn.Linear( 28 * 28, 256)\n",
    "        self.fc4 = nn.Linear(256, 128)\n",
    "        self.fc5 = nn.Linear(128, 10)\n",
    "\n",
    "    def forward(self, x):\n",
    "        x = x.view(-1, 28 * 28)\n",
    "        x = F.relu(self.fc1(x))\n",
    "        x = F.relu(self.fc4(x))\n",
    "        x = self.fc5(x)\n",
    "        return x\n"
   ]
  },
  {
   "cell_type": "code",
   "execution_count": 8,
   "metadata": {},
   "outputs": [],
   "source": [
    "class LeNet5(nn.Module):\n",
    "    def __init__(self):\n",
    "        super(LeNet5, self).__init__()\n",
    "        # torch.nn.Conv2d(in_channels, out_channels,\n",
    "        # kernel_size, stride=1, padding=0, dilation=1, \n",
    "        # groups=1, bias=True, padding_mode='zeros')\n",
    "        \n",
    "        # using same padding\n",
    "        self.conv1 = nn.Conv2d(3, 18, kernel_size=5)\n",
    "        self.conv2 = nn.Conv2d(18, 48, kernel_size=5)\n",
    "        \n",
    "        # torch.nn.MaxPool2d(kernel_size, stride=None, padding=0, dilation=1, \n",
    "        # return_indices=False, ceil_mode=False)\n",
    "        self.pool = nn.MaxPool2d(2, 2)\n",
    "        \n",
    "        # flatten volume and pass through linear layers\n",
    "        self.fc1 = nn.Linear(48*61*61, 360)\n",
    "        self.fc2 = nn.Linear(360, 252)\n",
    "        self.fc3 = nn.Linear(252, 50)\n",
    "        \n",
    "    def forward(self, x):\n",
    "        x = F.relu(self.conv1(x))\n",
    "        x = self.pool(x)\n",
    "        x = F.relu(self.conv2(x))\n",
    "        x = self.pool(x)\n",
    "        x = F.relu(self.fc1(x.view(-1, 48*61*61)))\n",
    "        x = F.relu(self.fc2(x))\n",
    "        x = self.fc3(x)\n",
    "        \n",
    "        return x"
   ]
  },
  {
   "cell_type": "code",
   "execution_count": 9,
   "metadata": {},
   "outputs": [],
   "source": [
    "class AlexNet(nn.Module):\n",
    "    \n",
    "    def __init__(self):\n",
    "        super(AlexNet, self).__init__()\n",
    "        # convolutional layers\n",
    "        self.conv1 = nn.Conv2d(in_channels=3, out_channels=96, kernel_size=11, stride=4)\n",
    "        self.conv2 = nn.Conv2d(in_channels=96, out_channels=256, kernel_size=5, padding=2)\n",
    "        self.conv3 = nn.Conv2d(in_channels=256, out_channels=384, kernel_size=3, padding=1)\n",
    "        self.conv4 = nn.Conv2d(in_channels=384, out_channels=384, kernel_size=3, padding=1)\n",
    "        self.conv5 = nn.Conv2d(in_channels=384, out_channels=256, kernel_size=3, padding=1)\n",
    "        # dense/fully-connected layers\n",
    "        self.fc1 = nn.Linear(256*6*6, 4096)\n",
    "        self.fc2 = nn.Linear(4096, 4096)\n",
    "        self.fc3 = nn.Linear(4096, 50)\n",
    "        # pooling layer\n",
    "        self.pool = nn.MaxPool2d(3, 2)\n",
    "        \n",
    "    def forward(self, x):\n",
    "        x = F.relu(self.conv1(x))\n",
    "        x = self.pool(x)\n",
    "        x = F.relu(self.conv2(x))\n",
    "        x = self.pool(x)\n",
    "        x = F.relu(self.conv3(x))\n",
    "        x = F.relu(self.conv4(x))\n",
    "        x = F.relu(self.conv5(x))\n",
    "        x = self.pool(x)\n",
    "        x = x.view(-1, 256*6*6)\n",
    "        x = F.relu(self.fc1(x))\n",
    "        x = F.relu(self.fc2(x))\n",
    "        x = self.fc3(x)\n",
    "        return x\n",
    "            \n",
    "    "
   ]
  },
  {
   "cell_type": "code",
   "execution_count": 10,
   "metadata": {},
   "outputs": [],
   "source": [
    "def train_model(model, criterion, optimizer, trainloader, epochs=5, devloader=None, print_info=True, path=None):\n",
    "    print('Starting Training...')\n",
    "    # list for tracking metrics\n",
    "    epoch_losses = []\n",
    "    epoch_acces = []\n",
    "    total = 0\n",
    "    correct = 0\n",
    "    # getting the usable device\n",
    "    device = torch.device('cuda' if torch.cuda.is_available()  else 'cpu')\n",
    "    print('Using device: ', device)\n",
    "    minibatches = len(trainloader)\n",
    "    # moving the model to the device we can use\n",
    "    model = model.to(device)\n",
    "    \n",
    "    for epoch in range(epochs):\n",
    "        epoch_loss = 0.0\n",
    "        for batch, labels in trainloader:\n",
    "            # moving the input and labels to the correct device\n",
    "            batch, labels = batch.to(device), labels.to(device)\n",
    "            \n",
    "            # zero the optimizers gradient\n",
    "            optimizer.zero_grad()\n",
    "            \n",
    "            # forward, backward, and optimization steps\n",
    "            output = model(batch)\n",
    "            loss = criterion(output, labels)\n",
    "            loss.backward()\n",
    "            optimizer.step()\n",
    "            # adding the mini batch loss\n",
    "            epoch_loss += loss.item()\n",
    "            # calculating the accuacry\n",
    "            total += labels.size(0)\n",
    "            correct += (torch.max(output, 1)[1] == labels).sum().item()\n",
    "            \n",
    "        # tracking the epoch loss and accuracy\n",
    "        epoch_losses.append(epoch_loss/minibatches)\n",
    "        epoch_acces.append(correct/total)\n",
    "        if print_info:\n",
    "            print(f'Epoch: {epoch} Loss: {epoch_loss/minibatches} Accuracy: {correct/total}')\n",
    "    if path:\n",
    "        torch.save(model.state_dict(), path)\n",
    "    return model, epoch_loss"
   ]
  },
  {
   "cell_type": "code",
   "execution_count": 14,
   "metadata": {},
   "outputs": [
    {
     "name": "stdout",
     "output_type": "stream",
     "text": [
      "Starting Training...\n",
      "Using device:  cuda\n",
      "Epoch: 0 Loss: 0.20303606103658675 Accuracy: 0.93835\n",
      "Epoch: 1 Loss: 0.10146211560294031 Accuracy: 0.9544166666666667\n"
     ]
    }
   ],
   "source": [
    "model = FeedForward() \n",
    "model, _ = train_model(model, \n",
    "            epochs=2,\n",
    "            criterion = nn.CrossEntropyLoss(),\n",
    "            optimizer = optim.Adam(model.parameters(), lr=0.001, betas=(0.9, 0.999)),\n",
    "            trainloader=train_loader,\n",
    "            path='./big-FF.pth'\n",
    "            )"
   ]
  },
  {
   "cell_type": "code",
   "execution_count": 19,
   "metadata": {},
   "outputs": [],
   "source": [
    "def convert_to_onnx(model, path, output):\n",
    "    model.to('cpu')\n",
    "    model.load_state_dict(torch.load(path))\n",
    "    model.eval()\n",
    "    fake_input = torch.zeros(1, 28 *  28)\n",
    "    torch.onnx.export(model, fake_input, output, verbose=True)"
   ]
  },
  {
   "cell_type": "code",
   "execution_count": 20,
   "metadata": {},
   "outputs": [
    {
     "name": "stdout",
     "output_type": "stream",
     "text": [
      "graph(%0 : Float(1, 784),\n",
      "      %fc1.weight : Float(256, 784),\n",
      "      %fc1.bias : Float(256),\n",
      "      %fc4.weight : Float(128, 256),\n",
      "      %fc4.bias : Float(128),\n",
      "      %fc5.weight : Float(10, 128),\n",
      "      %fc5.bias : Float(10)):\n",
      "  %7 : Tensor = onnx::Constant[value=  -1  784 [ CPULongType{2} ]]()\n",
      "  %8 : Float(1, 784) = onnx::Reshape(%0, %7) # <ipython-input-6-dff2d70b9a4f>:9:0\n",
      "  %9 : Float(1, 256) = onnx::Gemm[alpha=1., beta=1., transB=1](%8, %fc1.weight, %fc1.bias) # /home/aldo/miniconda3/envs/deep-learning/lib/python3.8/site-packages/torch/nn/functional.py:1610:0\n",
      "  %10 : Float(1, 256) = onnx::Relu(%9) # /home/aldo/miniconda3/envs/deep-learning/lib/python3.8/site-packages/torch/nn/functional.py:1063:0\n",
      "  %11 : Float(1, 128) = onnx::Gemm[alpha=1., beta=1., transB=1](%10, %fc4.weight, %fc4.bias) # /home/aldo/miniconda3/envs/deep-learning/lib/python3.8/site-packages/torch/nn/functional.py:1610:0\n",
      "  %12 : Float(1, 128) = onnx::Relu(%11) # /home/aldo/miniconda3/envs/deep-learning/lib/python3.8/site-packages/torch/nn/functional.py:1063:0\n",
      "  %13 : Float(1, 10) = onnx::Gemm[alpha=1., beta=1., transB=1](%12, %fc5.weight, %fc5.bias) # /home/aldo/miniconda3/envs/deep-learning/lib/python3.8/site-packages/torch/nn/functional.py:1610:0\n",
      "  return (%13)\n",
      "\n"
     ]
    }
   ],
   "source": [
    "convert_to_onnx(model, 'big-FF.pth', 'big-FF.onnx')"
   ]
  },
  {
   "cell_type": "code",
   "execution_count": null,
   "metadata": {},
   "outputs": [],
   "source": []
  }
 ],
 "metadata": {
  "kernelspec": {
   "display_name": "deep-learning",
   "language": "python",
   "name": "deep-learning"
  },
  "language_info": {
   "codemirror_mode": {
    "name": "ipython",
    "version": 3
   },
   "file_extension": ".py",
   "mimetype": "text/x-python",
   "name": "python",
   "nbconvert_exporter": "python",
   "pygments_lexer": "ipython3",
   "version": "3.8.3"
  }
 },
 "nbformat": 4,
 "nbformat_minor": 4
}
